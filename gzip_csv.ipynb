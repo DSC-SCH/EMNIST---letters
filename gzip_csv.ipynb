{
 "cells": [
  {
   "cell_type": "markdown",
   "metadata": {},
   "source": [
    "https://datamod.tistory.com/150"
   ]
  },
  {
   "cell_type": "code",
   "execution_count": null,
   "metadata": {},
   "outputs": [],
   "source": [
    "# gzip 압축 해제\n",
    "\n",
    "import gzip\n",
    "\n",
    "files = [\n",
    "    \"emnist-letters-train-images-idx3-ubyte.gz\",\n",
    "    \"emnist-letters-train-labels-idx1-ubyte.gz\",\n",
    "    \"emnist-letters-test-images-idx3-ubyte.gz\",\n",
    "    \"emnist-letters-test-labels-idx1-ubyte.gz\"\n",
    "]\n",
    "\n",
    "for f in files:\n",
    "    gz_file = \"./\" + f\n",
    "    raw_file = \"./\" + f.replace(\".gz\", \"\") # .gz 사라짐\n",
    "    print(\"gzip:\", f)\n",
    "    with gzip.open(gz_file, \"rb\") as fp: # gzip으로 .gz 파일을 body 객체로\n",
    "        body = fp.read()\n",
    "        with  open(raw_file, \"wb\") as w: # 압축풀린 파일을 .gz을 뺀 이름으로 파일 생성\n",
    "            w.write(fp.read())"
   ]
  },
  {
   "cell_type": "code",
   "execution_count": 6,
   "metadata": {},
   "outputs": [
    {
     "ename": "error",
     "evalue": "unpack requires a buffer of 8 bytes",
     "output_type": "error",
     "traceback": [
      "\u001b[1;31m---------------------------------------------------------------------------\u001b[0m",
      "\u001b[1;31merror\u001b[0m                                     Traceback (most recent call last)",
      "\u001b[1;32m<ipython-input-6-4d7348fc5551>\u001b[0m in \u001b[0;36m<module>\u001b[1;34m\u001b[0m\n\u001b[0;32m     38\u001b[0m \u001b[1;31m# 결과를 파일로 출력하기\u001b[0m\u001b[1;33m\u001b[0m\u001b[1;33m\u001b[0m\u001b[1;33m\u001b[0m\u001b[0m\n\u001b[0;32m     39\u001b[0m \u001b[1;33m\u001b[0m\u001b[0m\n\u001b[1;32m---> 40\u001b[1;33m \u001b[0mto_csv\u001b[0m\u001b[1;33m(\u001b[0m\u001b[1;34m\"train\"\u001b[0m\u001b[1;33m,\u001b[0m \u001b[1;36m1000\u001b[0m\u001b[1;33m)\u001b[0m\u001b[1;33m\u001b[0m\u001b[1;33m\u001b[0m\u001b[0m\n\u001b[0m\u001b[0;32m     41\u001b[0m \u001b[0mto_csv\u001b[0m\u001b[1;33m(\u001b[0m\u001b[1;34m\"test\"\u001b[0m\u001b[1;33m,\u001b[0m \u001b[1;36m500\u001b[0m\u001b[1;33m)\u001b[0m\u001b[1;33m\u001b[0m\u001b[1;33m\u001b[0m\u001b[0m\n",
      "\u001b[1;32m<ipython-input-6-4d7348fc5551>\u001b[0m in \u001b[0;36mto_csv\u001b[1;34m(name, maxdata)\u001b[0m\n\u001b[0;32m     10\u001b[0m \u001b[1;33m\u001b[0m\u001b[0m\n\u001b[0;32m     11\u001b[0m     \u001b[1;31m# header 정보 읽기\u001b[0m\u001b[1;33m\u001b[0m\u001b[1;33m\u001b[0m\u001b[1;33m\u001b[0m\u001b[0m\n\u001b[1;32m---> 12\u001b[1;33m     \u001b[0mmag\u001b[0m\u001b[1;33m,\u001b[0m \u001b[0mimg_count\u001b[0m \u001b[1;33m=\u001b[0m \u001b[0mstruct\u001b[0m\u001b[1;33m.\u001b[0m\u001b[0munpack\u001b[0m\u001b[1;33m(\u001b[0m\u001b[1;34m\">II\"\u001b[0m\u001b[1;33m,\u001b[0m \u001b[0mimg_f\u001b[0m\u001b[1;33m.\u001b[0m\u001b[0mread\u001b[0m\u001b[1;33m(\u001b[0m\u001b[1;36m8\u001b[0m\u001b[1;33m)\u001b[0m\u001b[1;33m)\u001b[0m \u001b[1;31m# > : big-endian, I(i) : unsigned int, read(8) : 8개 읽기\u001b[0m\u001b[1;33m\u001b[0m\u001b[1;33m\u001b[0m\u001b[0m\n\u001b[0m\u001b[0;32m     13\u001b[0m     \u001b[0mmag\u001b[0m\u001b[1;33m,\u001b[0m \u001b[0mlb_count\u001b[0m \u001b[1;33m=\u001b[0m \u001b[0mstruct\u001b[0m\u001b[1;33m.\u001b[0m\u001b[0munpack\u001b[0m\u001b[1;33m(\u001b[0m\u001b[1;34m\">II\"\u001b[0m\u001b[1;33m,\u001b[0m \u001b[0mlb_f\u001b[0m\u001b[1;33m.\u001b[0m\u001b[0mread\u001b[0m\u001b[1;33m(\u001b[0m\u001b[1;36m8\u001b[0m\u001b[1;33m)\u001b[0m\u001b[1;33m)\u001b[0m\u001b[1;33m\u001b[0m\u001b[1;33m\u001b[0m\u001b[0m\n\u001b[0;32m     14\u001b[0m     \u001b[0mrows\u001b[0m\u001b[1;33m,\u001b[0m \u001b[0mcols\u001b[0m \u001b[1;33m=\u001b[0m \u001b[0mstruct\u001b[0m\u001b[1;33m.\u001b[0m\u001b[0munpack\u001b[0m\u001b[1;33m(\u001b[0m\u001b[1;34m\">II\"\u001b[0m\u001b[1;33m,\u001b[0m \u001b[0mimg_f\u001b[0m\u001b[1;33m.\u001b[0m\u001b[0mread\u001b[0m\u001b[1;33m(\u001b[0m\u001b[1;36m8\u001b[0m\u001b[1;33m)\u001b[0m\u001b[1;33m)\u001b[0m\u001b[1;33m\u001b[0m\u001b[1;33m\u001b[0m\u001b[0m\n",
      "\u001b[1;31merror\u001b[0m: unpack requires a buffer of 8 bytes"
     ]
    }
   ],
   "source": [
    "# image data to binary data / -> csv로 변환\n",
    "\n",
    "from struct import *\n",
    "\n",
    "def to_csv(name, maxdata):\n",
    "    # open image, label file\n",
    "    img_f = open(\"./emnist-letters-\" + name + \"-images-idx3-ubyte\", \"rb\")\n",
    "    lb_f = open(\"./emnist-letters-\" + name + \"-labels-idx1-ubyte\", \"rb\")\n",
    "    csv_f = open(\"./emnist-letters-\" + name + \".csv\", \"w\", encoding=\"utf-8\")\n",
    "    \n",
    "    # header 정보 읽기\n",
    "    mag, img_count = struct.unpack(\">II\", img_f.read(8)) # > : big-endian, I(i) : unsigned int, read(8) : 8개 읽기\n",
    "    mag, lb_count = struct.unpack(\">II\", lb_f.read(8))\n",
    "    rows, cols = struct.unpack(\">II\", img_f.read(8))\n",
    "    pixels = rows * cols\n",
    "    \n",
    "    # 이미지 데이터 읽고 CSV로 저장\n",
    "    res = []\n",
    "    for i in range(lb_count):\n",
    "        if i > maxdata: break\n",
    "        label = struct.unpack(\"B\", lb_f.read(1))[0] # B : unsigned char, ex.(5,) -> 5가 되기 위해 [0]을 삽입\n",
    "        bChar = img_f.read(pixels)\n",
    "        data = list(map(lambda n: str(n), bChar))\n",
    "        csv_f.write(str(label) + \",\")\n",
    "        csv_f.write(\",\".join(data) + \"\\r\\n\")\n",
    "        \n",
    "        # img 파일 테스트\n",
    "        if i < 10:\n",
    "            s = \"P2 28 28 255\\n\"\n",
    "            s += \" \".join(data)\n",
    "            iname = \"./{0}-{1}-{2}.pgm\".format(name, i, label)\n",
    "            with open(iname, \"w\", encoding=\"utf-8\") as f:\n",
    "                f.write(s)\n",
    "    csv_f.close()\n",
    "    lb_f.close()\n",
    "    img_f.close()\n",
    "\n",
    "# 결과를 파일로 출력하기\n",
    "\n",
    "to_csv(\"train\", 1000)\n",
    "to_csv(\"test\", 500)"
   ]
  },
  {
   "cell_type": "code",
   "execution_count": null,
   "metadata": {},
   "outputs": [],
   "source": []
  }
 ],
 "metadata": {
  "kernelspec": {
   "display_name": "Python 3",
   "language": "python",
   "name": "python3"
  },
  "language_info": {
   "codemirror_mode": {
    "name": "ipython",
    "version": 3
   },
   "file_extension": ".py",
   "mimetype": "text/x-python",
   "name": "python",
   "nbconvert_exporter": "python",
   "pygments_lexer": "ipython3",
   "version": "3.7.3"
  }
 },
 "nbformat": 4,
 "nbformat_minor": 2
}
